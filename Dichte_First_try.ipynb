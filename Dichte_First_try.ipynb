{
 "cells": [
  {
   "cell_type": "code",
   "execution_count": 1,
   "metadata": {},
   "outputs": [
    {
     "name": "stderr",
     "output_type": "stream",
     "text": [
      "C:\\Users\\Julian\\AppData\\Local\\Temp\\ipykernel_4512\\2094602378.py:4: DtypeWarning: Columns (1,7,10,14) have mixed types. Specify dtype option on import or set low_memory=False.\n",
      "  df = pd.read_csv(\"C:/Users/Julian/Downloads/Simulation-Dichtprüfung/Simulation-Dichtprüfung/simulation-st5.csv\", sep=';')\n"
     ]
    }
   ],
   "source": [
    "import pandas as pd\n",
    "import matplotlib.pyplot as plt\n",
    "\n",
    "df = pd.read_csv(\"C:/Users/Julian/Downloads/Simulation-Dichtprüfung/Simulation-Dichtprüfung/simulation-st5.csv\", sep=';')"
   ]
  },
  {
   "cell_type": "code",
   "execution_count": 2,
   "metadata": {},
   "outputs": [
    {
     "data": {
      "text/html": [
       "<div>\n",
       "<style scoped>\n",
       "    .dataframe tbody tr th:only-of-type {\n",
       "        vertical-align: middle;\n",
       "    }\n",
       "\n",
       "    .dataframe tbody tr th {\n",
       "        vertical-align: top;\n",
       "    }\n",
       "\n",
       "    .dataframe thead th {\n",
       "        text-align: right;\n",
       "    }\n",
       "</style>\n",
       "<table border=\"1\" class=\"dataframe\">\n",
       "  <thead>\n",
       "    <tr style=\"text-align: right;\">\n",
       "      <th></th>\n",
       "      <th>time</th>\n",
       "      <th>configuration_label</th>\n",
       "      <th>configuration_label_druck_change_5</th>\n",
       "      <th>configuration_label_druck_change_6</th>\n",
       "      <th>configuration_label_druck_change_7</th>\n",
       "      <th>druck</th>\n",
       "      <th>handaktiv</th>\n",
       "      <th>identnummer</th>\n",
       "      <th>iomaster</th>\n",
       "      <th>leck</th>\n",
       "      <th>maintenance_label</th>\n",
       "      <th>maintenance_label_cleaning</th>\n",
       "      <th>messenaktiv</th>\n",
       "      <th>repair_label</th>\n",
       "      <th>rework_label</th>\n",
       "      <th>rework_label_assembly_error</th>\n",
       "      <th>status</th>\n",
       "    </tr>\n",
       "  </thead>\n",
       "  <tbody>\n",
       "    <tr>\n",
       "      <th>0</th>\n",
       "      <td>1635112800000</td>\n",
       "      <td>NaN</td>\n",
       "      <td>False</td>\n",
       "      <td>False</td>\n",
       "      <td>False</td>\n",
       "      <td>5.362381</td>\n",
       "      <td>False</td>\n",
       "      <td>NaN</td>\n",
       "      <td>False</td>\n",
       "      <td>0.0</td>\n",
       "      <td>NaN</td>\n",
       "      <td>False</td>\n",
       "      <td>False</td>\n",
       "      <td>NaN</td>\n",
       "      <td>NaN</td>\n",
       "      <td>False</td>\n",
       "      <td>0.0</td>\n",
       "    </tr>\n",
       "    <tr>\n",
       "      <th>1</th>\n",
       "      <td>1635112801000</td>\n",
       "      <td>NaN</td>\n",
       "      <td>False</td>\n",
       "      <td>False</td>\n",
       "      <td>False</td>\n",
       "      <td>4.604942</td>\n",
       "      <td>False</td>\n",
       "      <td>NaN</td>\n",
       "      <td>False</td>\n",
       "      <td>0.0</td>\n",
       "      <td>NaN</td>\n",
       "      <td>False</td>\n",
       "      <td>False</td>\n",
       "      <td>NaN</td>\n",
       "      <td>NaN</td>\n",
       "      <td>False</td>\n",
       "      <td>0.0</td>\n",
       "    </tr>\n",
       "    <tr>\n",
       "      <th>2</th>\n",
       "      <td>1635112802000</td>\n",
       "      <td>NaN</td>\n",
       "      <td>False</td>\n",
       "      <td>False</td>\n",
       "      <td>False</td>\n",
       "      <td>6.139246</td>\n",
       "      <td>False</td>\n",
       "      <td>NaN</td>\n",
       "      <td>False</td>\n",
       "      <td>0.0</td>\n",
       "      <td>NaN</td>\n",
       "      <td>False</td>\n",
       "      <td>False</td>\n",
       "      <td>NaN</td>\n",
       "      <td>NaN</td>\n",
       "      <td>False</td>\n",
       "      <td>0.0</td>\n",
       "    </tr>\n",
       "    <tr>\n",
       "      <th>3</th>\n",
       "      <td>1635112803000</td>\n",
       "      <td>NaN</td>\n",
       "      <td>False</td>\n",
       "      <td>False</td>\n",
       "      <td>False</td>\n",
       "      <td>5.217539</td>\n",
       "      <td>False</td>\n",
       "      <td>NaN</td>\n",
       "      <td>False</td>\n",
       "      <td>0.0</td>\n",
       "      <td>NaN</td>\n",
       "      <td>False</td>\n",
       "      <td>False</td>\n",
       "      <td>NaN</td>\n",
       "      <td>NaN</td>\n",
       "      <td>False</td>\n",
       "      <td>0.0</td>\n",
       "    </tr>\n",
       "    <tr>\n",
       "      <th>4</th>\n",
       "      <td>1635112804000</td>\n",
       "      <td>NaN</td>\n",
       "      <td>False</td>\n",
       "      <td>False</td>\n",
       "      <td>False</td>\n",
       "      <td>4.224132</td>\n",
       "      <td>False</td>\n",
       "      <td>NaN</td>\n",
       "      <td>False</td>\n",
       "      <td>0.0</td>\n",
       "      <td>NaN</td>\n",
       "      <td>False</td>\n",
       "      <td>False</td>\n",
       "      <td>NaN</td>\n",
       "      <td>NaN</td>\n",
       "      <td>False</td>\n",
       "      <td>0.0</td>\n",
       "    </tr>\n",
       "    <tr>\n",
       "      <th>...</th>\n",
       "      <td>...</td>\n",
       "      <td>...</td>\n",
       "      <td>...</td>\n",
       "      <td>...</td>\n",
       "      <td>...</td>\n",
       "      <td>...</td>\n",
       "      <td>...</td>\n",
       "      <td>...</td>\n",
       "      <td>...</td>\n",
       "      <td>...</td>\n",
       "      <td>...</td>\n",
       "      <td>...</td>\n",
       "      <td>...</td>\n",
       "      <td>...</td>\n",
       "      <td>...</td>\n",
       "      <td>...</td>\n",
       "      <td>...</td>\n",
       "    </tr>\n",
       "    <tr>\n",
       "      <th>395</th>\n",
       "      <td>1635113195000</td>\n",
       "      <td>NaN</td>\n",
       "      <td>False</td>\n",
       "      <td>False</td>\n",
       "      <td>False</td>\n",
       "      <td>4.807193</td>\n",
       "      <td>False</td>\n",
       "      <td>NaN</td>\n",
       "      <td>False</td>\n",
       "      <td>0.0</td>\n",
       "      <td>NaN</td>\n",
       "      <td>False</td>\n",
       "      <td>False</td>\n",
       "      <td>NaN</td>\n",
       "      <td>NaN</td>\n",
       "      <td>False</td>\n",
       "      <td>0.0</td>\n",
       "    </tr>\n",
       "    <tr>\n",
       "      <th>396</th>\n",
       "      <td>1635113196000</td>\n",
       "      <td>NaN</td>\n",
       "      <td>False</td>\n",
       "      <td>False</td>\n",
       "      <td>False</td>\n",
       "      <td>4.024727</td>\n",
       "      <td>False</td>\n",
       "      <td>NaN</td>\n",
       "      <td>False</td>\n",
       "      <td>0.0</td>\n",
       "      <td>NaN</td>\n",
       "      <td>False</td>\n",
       "      <td>False</td>\n",
       "      <td>NaN</td>\n",
       "      <td>NaN</td>\n",
       "      <td>False</td>\n",
       "      <td>0.0</td>\n",
       "    </tr>\n",
       "    <tr>\n",
       "      <th>397</th>\n",
       "      <td>1635113197000</td>\n",
       "      <td>NaN</td>\n",
       "      <td>False</td>\n",
       "      <td>False</td>\n",
       "      <td>False</td>\n",
       "      <td>4.874916</td>\n",
       "      <td>False</td>\n",
       "      <td>NaN</td>\n",
       "      <td>False</td>\n",
       "      <td>0.0</td>\n",
       "      <td>NaN</td>\n",
       "      <td>False</td>\n",
       "      <td>False</td>\n",
       "      <td>NaN</td>\n",
       "      <td>NaN</td>\n",
       "      <td>False</td>\n",
       "      <td>0.0</td>\n",
       "    </tr>\n",
       "    <tr>\n",
       "      <th>398</th>\n",
       "      <td>1635113198000</td>\n",
       "      <td>NaN</td>\n",
       "      <td>False</td>\n",
       "      <td>False</td>\n",
       "      <td>False</td>\n",
       "      <td>4.913887</td>\n",
       "      <td>False</td>\n",
       "      <td>NaN</td>\n",
       "      <td>False</td>\n",
       "      <td>0.0</td>\n",
       "      <td>NaN</td>\n",
       "      <td>False</td>\n",
       "      <td>False</td>\n",
       "      <td>NaN</td>\n",
       "      <td>NaN</td>\n",
       "      <td>False</td>\n",
       "      <td>0.0</td>\n",
       "    </tr>\n",
       "    <tr>\n",
       "      <th>399</th>\n",
       "      <td>1635113199000</td>\n",
       "      <td>NaN</td>\n",
       "      <td>False</td>\n",
       "      <td>False</td>\n",
       "      <td>False</td>\n",
       "      <td>4.262733</td>\n",
       "      <td>False</td>\n",
       "      <td>NaN</td>\n",
       "      <td>False</td>\n",
       "      <td>0.0</td>\n",
       "      <td>NaN</td>\n",
       "      <td>False</td>\n",
       "      <td>False</td>\n",
       "      <td>NaN</td>\n",
       "      <td>NaN</td>\n",
       "      <td>False</td>\n",
       "      <td>0.0</td>\n",
       "    </tr>\n",
       "  </tbody>\n",
       "</table>\n",
       "<p>400 rows × 17 columns</p>\n",
       "</div>"
      ],
      "text/plain": [
       "              time configuration_label  configuration_label_druck_change_5  \\\n",
       "0    1635112800000                 NaN                               False   \n",
       "1    1635112801000                 NaN                               False   \n",
       "2    1635112802000                 NaN                               False   \n",
       "3    1635112803000                 NaN                               False   \n",
       "4    1635112804000                 NaN                               False   \n",
       "..             ...                 ...                                 ...   \n",
       "395  1635113195000                 NaN                               False   \n",
       "396  1635113196000                 NaN                               False   \n",
       "397  1635113197000                 NaN                               False   \n",
       "398  1635113198000                 NaN                               False   \n",
       "399  1635113199000                 NaN                               False   \n",
       "\n",
       "     configuration_label_druck_change_6  configuration_label_druck_change_7  \\\n",
       "0                                 False                               False   \n",
       "1                                 False                               False   \n",
       "2                                 False                               False   \n",
       "3                                 False                               False   \n",
       "4                                 False                               False   \n",
       "..                                  ...                                 ...   \n",
       "395                               False                               False   \n",
       "396                               False                               False   \n",
       "397                               False                               False   \n",
       "398                               False                               False   \n",
       "399                               False                               False   \n",
       "\n",
       "        druck  handaktiv identnummer  iomaster  leck maintenance_label  \\\n",
       "0    5.362381      False         NaN     False   0.0               NaN   \n",
       "1    4.604942      False         NaN     False   0.0               NaN   \n",
       "2    6.139246      False         NaN     False   0.0               NaN   \n",
       "3    5.217539      False         NaN     False   0.0               NaN   \n",
       "4    4.224132      False         NaN     False   0.0               NaN   \n",
       "..        ...        ...         ...       ...   ...               ...   \n",
       "395  4.807193      False         NaN     False   0.0               NaN   \n",
       "396  4.024727      False         NaN     False   0.0               NaN   \n",
       "397  4.874916      False         NaN     False   0.0               NaN   \n",
       "398  4.913887      False         NaN     False   0.0               NaN   \n",
       "399  4.262733      False         NaN     False   0.0               NaN   \n",
       "\n",
       "     maintenance_label_cleaning  messenaktiv  repair_label rework_label  \\\n",
       "0                         False        False           NaN          NaN   \n",
       "1                         False        False           NaN          NaN   \n",
       "2                         False        False           NaN          NaN   \n",
       "3                         False        False           NaN          NaN   \n",
       "4                         False        False           NaN          NaN   \n",
       "..                          ...          ...           ...          ...   \n",
       "395                       False        False           NaN          NaN   \n",
       "396                       False        False           NaN          NaN   \n",
       "397                       False        False           NaN          NaN   \n",
       "398                       False        False           NaN          NaN   \n",
       "399                       False        False           NaN          NaN   \n",
       "\n",
       "     rework_label_assembly_error  status  \n",
       "0                          False     0.0  \n",
       "1                          False     0.0  \n",
       "2                          False     0.0  \n",
       "3                          False     0.0  \n",
       "4                          False     0.0  \n",
       "..                           ...     ...  \n",
       "395                        False     0.0  \n",
       "396                        False     0.0  \n",
       "397                        False     0.0  \n",
       "398                        False     0.0  \n",
       "399                        False     0.0  \n",
       "\n",
       "[400 rows x 17 columns]"
      ]
     },
     "execution_count": 2,
     "metadata": {},
     "output_type": "execute_result"
    }
   ],
   "source": [
    "df.head(400)"
   ]
  },
  {
   "cell_type": "code",
   "execution_count": 3,
   "metadata": {},
   "outputs": [
    {
     "name": "stdout",
     "output_type": "stream",
     "text": [
      "<class 'pandas.core.frame.DataFrame'>\n",
      "RangeIndex: 1455424 entries, 0 to 1455423\n",
      "Data columns (total 17 columns):\n",
      " #   Column                              Non-Null Count    Dtype  \n",
      "---  ------                              --------------    -----  \n",
      " 0   time                                1455424 non-null  int64  \n",
      " 1   configuration_label                 391 non-null      object \n",
      " 2   configuration_label_druck_change_5  1455424 non-null  bool   \n",
      " 3   configuration_label_druck_change_6  1455424 non-null  bool   \n",
      " 4   configuration_label_druck_change_7  1455424 non-null  bool   \n",
      " 5   druck                               1455424 non-null  float64\n",
      " 6   handaktiv                           1455424 non-null  bool   \n",
      " 7   identnummer                         835107 non-null   object \n",
      " 8   iomaster                            1455424 non-null  bool   \n",
      " 9   leck                                1455424 non-null  float64\n",
      " 10  maintenance_label                   626 non-null      object \n",
      " 11  maintenance_label_cleaning          1455424 non-null  bool   \n",
      " 12  messenaktiv                         1455424 non-null  bool   \n",
      " 13  repair_label                        0 non-null        float64\n",
      " 14  rework_label                        4778 non-null     object \n",
      " 15  rework_label_assembly_error         1455424 non-null  bool   \n",
      " 16  status                              1455424 non-null  float64\n",
      "dtypes: bool(8), float64(4), int64(1), object(4)\n",
      "memory usage: 111.0+ MB\n"
     ]
    }
   ],
   "source": [
    "df.info()"
   ]
  },
  {
   "cell_type": "code",
   "execution_count": 4,
   "metadata": {},
   "outputs": [
    {
     "data": {
      "text/plain": [
       "time                                        0\n",
       "configuration_label                   1455033\n",
       "configuration_label_druck_change_5          0\n",
       "configuration_label_druck_change_6          0\n",
       "configuration_label_druck_change_7          0\n",
       "druck                                       0\n",
       "handaktiv                                   0\n",
       "identnummer                            620317\n",
       "iomaster                                    0\n",
       "leck                                        0\n",
       "maintenance_label                     1454798\n",
       "maintenance_label_cleaning                  0\n",
       "messenaktiv                                 0\n",
       "repair_label                          1455424\n",
       "rework_label                          1450646\n",
       "rework_label_assembly_error                 0\n",
       "status                                      0\n",
       "dtype: int64"
      ]
     },
     "execution_count": 4,
     "metadata": {},
     "output_type": "execute_result"
    }
   ],
   "source": [
    "df.isnull().sum()"
   ]
  },
  {
   "cell_type": "code",
   "execution_count": 25,
   "metadata": {},
   "outputs": [
    {
     "data": {
      "text/plain": [
       "'2021-10-24 22:00:00'"
      ]
     },
     "execution_count": 25,
     "metadata": {},
     "output_type": "execute_result"
    }
   ],
   "source": [
    "#falls Datum interessant ist\n",
    "ts = df.iat[0,0]\n",
    "from datetime import datetime\n",
    "s = datetime.utcfromtimestamp(ts/1000).strftime('%Y-%m-%d %H:%M:%S')\n",
    "s"
   ]
  },
  {
   "cell_type": "code",
   "execution_count": 9,
   "metadata": {},
   "outputs": [
    {
     "data": {
      "text/plain": [
       "<matplotlib.legend.Legend at 0x22c09c25270>"
      ]
     },
     "execution_count": 9,
     "metadata": {},
     "output_type": "execute_result"
    },
    {
     "data": {
      "image/png": "[encoded data removed]",
      "text/plain": [
       "<Figure size 432x288 with 1 Axes>"
      ]
     },
     "metadata": {
      "needs_background": "light"
     },
     "output_type": "display_data"
    }
   ],
   "source": [
    "#Gesamtübersicht über Leck, Druck, Status\n",
    "df['leck'].plot()\n",
    "df['druck'].plot()\n",
    "df['status'].plot(alpha=0.5)\n",
    "plt.legend()"
   ]
  },
  {
   "cell_type": "code",
   "execution_count": 13,
   "metadata": {},
   "outputs": [
    {
     "data": {
      "text/plain": [
       "<matplotlib.legend.Legend at 0x22c09ee3790>"
      ]
     },
     "execution_count": 13,
     "metadata": {},
     "output_type": "execute_result"
    },
    {
     "data": {
      "image/png": "[encoded data removed]",
      "text/plain": [
       "<Figure size 432x288 with 1 Axes>"
      ]
     },
     "metadata": {
      "needs_background": "light"
     },
     "output_type": "display_data"
    }
   ],
   "source": [
    "#Zoom in\n",
    "d = df[950000:1000000]\n",
    "d['leck'].plot()\n",
    "d['druck'].plot()\n",
    "d['status'].plot(alpha=0.5)\n",
    "plt.legend()"
   ]
  },
  {
   "cell_type": "code",
   "execution_count": 12,
   "metadata": {},
   "outputs": [
    {
     "data": {
      "text/plain": [
       "<matplotlib.legend.Legend at 0x1fe1dad9270>"
      ]
     },
     "execution_count": 12,
     "metadata": {},
     "output_type": "execute_result"
    },
    {
     "data": {
      "image/png": "[encoded data removed]",
      "text/plain": [
       "<Figure size 432x288 with 1 Axes>"
      ]
     },
     "metadata": {
      "needs_background": "light"
     },
     "output_type": "display_data"
    }
   ],
   "source": [
    "#Zoom in\n",
    "d = df[994900:995000]\n",
    "d['leck'].plot()\n",
    "d['druck'].plot()\n",
    "d['status'].plot(alpha=0.5)\n",
    "plt.legend()"
   ]
  },
  {
   "cell_type": "code",
   "execution_count": 18,
   "metadata": {},
   "outputs": [
    {
     "data": {
      "text/plain": [
       "count    1.455424e+06\n",
       "mean     5.321954e+00\n",
       "std      6.866639e-01\n",
       "min      2.661133e+00\n",
       "25%      4.824836e+00\n",
       "50%      5.266114e+00\n",
       "75%      5.794088e+00\n",
       "max      8.783989e+00\n",
       "Name: druck, dtype: float64"
      ]
     },
     "execution_count": 18,
     "metadata": {},
     "output_type": "execute_result"
    }
   ],
   "source": [
    "df['druck'].describe()"
   ]
  },
  {
   "cell_type": "code",
   "execution_count": 20,
   "metadata": {},
   "outputs": [
    {
     "data": {
      "text/plain": [
       "False    1443673\n",
       "True       11751\n",
       "Name: druck, dtype: int64"
      ]
     },
     "execution_count": 20,
     "metadata": {},
     "output_type": "execute_result"
    }
   ],
   "source": [
    "c = df['druck'] > 7\n",
    "c.value_counts()"
   ]
  },
  {
   "cell_type": "code",
   "execution_count": null,
   "metadata": {},
   "outputs": [],
   "source": []
  }
 ],
 "metadata": {
  "interpreter": {
   "hash": "2be5faf79681da6f2a61fdfdd5405d65d042280f7fba6178067603e3a2925119"
  },
  "kernelspec": {
   "display_name": "Python 3.10.1 64-bit",
   "language": "python",
   "name": "python3"
  },
  "language_info": {
   "codemirror_mode": {
    "name": "ipython",
    "version": 3
   },
   "file_extension": ".py",
   "mimetype": "text/x-python",
   "name": "python",
   "nbconvert_exporter": "python",
   "pygments_lexer": "ipython3",
   "version": "3.10.1"
  },
  "orig_nbformat": 4
 },
 "nbformat": 4,
 "nbformat_minor": 2
}
