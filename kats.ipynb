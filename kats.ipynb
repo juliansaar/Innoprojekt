{
 "cells": [
  {
   "cell_type": "code",
   "execution_count": 1,
   "metadata": {},
   "outputs": [],
   "source": [
    "import numpy as np\n",
    "import pandas as pd\n",
    "import matplotlib.pyplot as plt\n",
    "%matplotlib inline\n",
    "import seaborn as sns\n",
    "from datetime import datetime, timedelta\n",
    "\n",
    "import matplotlib.dates as mdates\n",
    "from matplotlib.dates import DateFormatter\n",
    "import pickle"
   ]
  },
  {
   "cell_type": "code",
   "execution_count": 2,
   "metadata": {},
   "outputs": [],
   "source": [
    "with open('../02_Daten/Kaffeemaschine/preprocessed_coffee.pickle', 'rb') as handle:\n",
    "    df = pickle.load(handle)"
   ]
  },
  {
   "cell_type": "code",
   "execution_count": 4,
   "metadata": {},
   "outputs": [
    {
     "data": {
      "text/html": [
       "<div>\n",
       "<style scoped>\n",
       "    .dataframe tbody tr th:only-of-type {\n",
       "        vertical-align: middle;\n",
       "    }\n",
       "\n",
       "    .dataframe tbody tr th {\n",
       "        vertical-align: top;\n",
       "    }\n",
       "\n",
       "    .dataframe thead th {\n",
       "        text-align: right;\n",
       "    }\n",
       "</style>\n",
       "<table border=\"1\" class=\"dataframe\">\n",
       "  <thead>\n",
       "    <tr style=\"text-align: right;\">\n",
       "      <th></th>\n",
       "      <th>time</th>\n",
       "      <th>x</th>\n",
       "      <th>y</th>\n",
       "      <th>z</th>\n",
       "      <th>day_number</th>\n",
       "      <th>day_name</th>\n",
       "      <th>Status</th>\n",
       "    </tr>\n",
       "  </thead>\n",
       "  <tbody>\n",
       "    <tr>\n",
       "      <th>0</th>\n",
       "      <td>2022-01-28 10:39:28.532</td>\n",
       "      <td>0.242</td>\n",
       "      <td>0.053</td>\n",
       "      <td>4.267</td>\n",
       "      <td>4</td>\n",
       "      <td>Freitag</td>\n",
       "      <td>0</td>\n",
       "    </tr>\n",
       "    <tr>\n",
       "      <th>1</th>\n",
       "      <td>2022-01-28 10:39:28.742</td>\n",
       "      <td>0.245</td>\n",
       "      <td>0.066</td>\n",
       "      <td>4.292</td>\n",
       "      <td>4</td>\n",
       "      <td>Freitag</td>\n",
       "      <td>0</td>\n",
       "    </tr>\n",
       "    <tr>\n",
       "      <th>2</th>\n",
       "      <td>2022-01-28 10:39:28.915</td>\n",
       "      <td>0.261</td>\n",
       "      <td>0.092</td>\n",
       "      <td>4.271</td>\n",
       "      <td>4</td>\n",
       "      <td>Freitag</td>\n",
       "      <td>0</td>\n",
       "    </tr>\n",
       "    <tr>\n",
       "      <th>3</th>\n",
       "      <td>2022-01-28 10:39:29.237</td>\n",
       "      <td>0.240</td>\n",
       "      <td>0.083</td>\n",
       "      <td>4.260</td>\n",
       "      <td>4</td>\n",
       "      <td>Freitag</td>\n",
       "      <td>0</td>\n",
       "    </tr>\n",
       "    <tr>\n",
       "      <th>4</th>\n",
       "      <td>2022-01-28 10:39:29.455</td>\n",
       "      <td>0.270</td>\n",
       "      <td>0.086</td>\n",
       "      <td>4.258</td>\n",
       "      <td>4</td>\n",
       "      <td>Freitag</td>\n",
       "      <td>0</td>\n",
       "    </tr>\n",
       "  </tbody>\n",
       "</table>\n",
       "</div>"
      ],
      "text/plain": [
       "                     time      x      y      z  day_number day_name  Status\n",
       "0 2022-01-28 10:39:28.532  0.242  0.053  4.267           4  Freitag       0\n",
       "1 2022-01-28 10:39:28.742  0.245  0.066  4.292           4  Freitag       0\n",
       "2 2022-01-28 10:39:28.915  0.261  0.092  4.271           4  Freitag       0\n",
       "3 2022-01-28 10:39:29.237  0.240  0.083  4.260           4  Freitag       0\n",
       "4 2022-01-28 10:39:29.455  0.270  0.086  4.258           4  Freitag       0"
      ]
     },
     "execution_count": 4,
     "metadata": {},
     "output_type": "execute_result"
    }
   ],
   "source": [
    "df.head()"
   ]
  },
  {
   "cell_type": "code",
   "execution_count": 3,
   "metadata": {},
   "outputs": [],
   "source": [
    "df.drop(['day_number','day_name','Status'], axis=1, inplace=True)"
   ]
  },
  {
   "cell_type": "markdown",
   "metadata": {},
   "source": [
    "### 1. Basics"
   ]
  },
  {
   "cell_type": "markdown",
   "metadata": {},
   "source": [
    "Informationen aus diesem Tutorial: https://github.com/facebookresearch/Kats/blob/main/tutorials/kats_101_basics.ipynb"
   ]
  },
  {
   "cell_type": "markdown",
   "metadata": {},
   "source": [
    "aber mit unserem Kaffee-Datensatz getestet"
   ]
  },
  {
   "cell_type": "code",
   "execution_count": 4,
   "metadata": {},
   "outputs": [],
   "source": [
    "from kats.consts import TimeSeriesData"
   ]
  },
  {
   "cell_type": "code",
   "execution_count": null,
   "metadata": {},
   "outputs": [],
   "source": [
    "#df.columns = [\"time\", \"v1\", \"v2\", \"v3\"]"
   ]
  },
  {
   "cell_type": "code",
   "execution_count": 5,
   "metadata": {},
   "outputs": [],
   "source": [
    "df_ts = TimeSeriesData(df)"
   ]
  },
  {
   "cell_type": "code",
   "execution_count": 9,
   "metadata": {},
   "outputs": [
    {
     "name": "stdout",
     "output_type": "stream",
     "text": [
      "<class 'kats.consts.TimeSeriesData'>\n"
     ]
    }
   ],
   "source": [
    "print(type(df_ts))"
   ]
  },
  {
   "cell_type": "code",
   "execution_count": 7,
   "metadata": {},
   "outputs": [
    {
     "name": "stdout",
     "output_type": "stream",
     "text": [
      "<class 'pandas.core.frame.DataFrame'>\n"
     ]
    }
   ],
   "source": [
    "print(type(df_ts.value))"
   ]
  },
  {
   "cell_type": "code",
   "execution_count": 8,
   "metadata": {},
   "outputs": [
    {
     "data": {
      "text/html": [
       "<div>\n",
       "<style scoped>\n",
       "    .dataframe tbody tr th:only-of-type {\n",
       "        vertical-align: middle;\n",
       "    }\n",
       "\n",
       "    .dataframe tbody tr th {\n",
       "        vertical-align: top;\n",
       "    }\n",
       "\n",
       "    .dataframe thead th {\n",
       "        text-align: right;\n",
       "    }\n",
       "</style>\n",
       "<table border=\"1\" class=\"dataframe\">\n",
       "  <thead>\n",
       "    <tr style=\"text-align: right;\">\n",
       "      <th></th>\n",
       "      <th>time</th>\n",
       "      <th>x</th>\n",
       "      <th>y</th>\n",
       "      <th>z</th>\n",
       "    </tr>\n",
       "  </thead>\n",
       "  <tbody>\n",
       "    <tr>\n",
       "      <th>0</th>\n",
       "      <td>2022-01-28 10:39:28.532</td>\n",
       "      <td>0.242</td>\n",
       "      <td>0.053</td>\n",
       "      <td>4.267</td>\n",
       "    </tr>\n",
       "    <tr>\n",
       "      <th>1</th>\n",
       "      <td>2022-01-28 10:39:28.742</td>\n",
       "      <td>0.245</td>\n",
       "      <td>0.066</td>\n",
       "      <td>4.292</td>\n",
       "    </tr>\n",
       "    <tr>\n",
       "      <th>2</th>\n",
       "      <td>2022-01-28 10:39:28.915</td>\n",
       "      <td>0.261</td>\n",
       "      <td>0.092</td>\n",
       "      <td>4.271</td>\n",
       "    </tr>\n",
       "    <tr>\n",
       "      <th>3</th>\n",
       "      <td>2022-01-28 10:39:29.237</td>\n",
       "      <td>0.240</td>\n",
       "      <td>0.083</td>\n",
       "      <td>4.260</td>\n",
       "    </tr>\n",
       "    <tr>\n",
       "      <th>4</th>\n",
       "      <td>2022-01-28 10:39:29.455</td>\n",
       "      <td>0.270</td>\n",
       "      <td>0.086</td>\n",
       "      <td>4.258</td>\n",
       "    </tr>\n",
       "    <tr>\n",
       "      <th>...</th>\n",
       "      <td>...</td>\n",
       "      <td>...</td>\n",
       "      <td>...</td>\n",
       "      <td>...</td>\n",
       "    </tr>\n",
       "    <tr>\n",
       "      <th>5604981</th>\n",
       "      <td>2022-02-09 15:57:11.679</td>\n",
       "      <td>0.236</td>\n",
       "      <td>0.066</td>\n",
       "      <td>4.267</td>\n",
       "    </tr>\n",
       "    <tr>\n",
       "      <th>5604982</th>\n",
       "      <td>2022-02-09 15:57:11.867</td>\n",
       "      <td>0.221</td>\n",
       "      <td>0.058</td>\n",
       "      <td>4.265</td>\n",
       "    </tr>\n",
       "    <tr>\n",
       "      <th>5604983</th>\n",
       "      <td>2022-02-09 15:57:12.062</td>\n",
       "      <td>0.182</td>\n",
       "      <td>0.023</td>\n",
       "      <td>4.277</td>\n",
       "    </tr>\n",
       "    <tr>\n",
       "      <th>5604984</th>\n",
       "      <td>2022-02-09 15:57:12.205</td>\n",
       "      <td>0.241</td>\n",
       "      <td>0.014</td>\n",
       "      <td>4.265</td>\n",
       "    </tr>\n",
       "    <tr>\n",
       "      <th>5604985</th>\n",
       "      <td>2022-02-09 15:57:12.444</td>\n",
       "      <td>0.224</td>\n",
       "      <td>0.049</td>\n",
       "      <td>4.280</td>\n",
       "    </tr>\n",
       "  </tbody>\n",
       "</table>\n",
       "<p>5604986 rows × 4 columns</p>\n",
       "</div>"
      ],
      "text/plain": [
       "                           time      x      y      z\n",
       "0       2022-01-28 10:39:28.532  0.242  0.053  4.267\n",
       "1       2022-01-28 10:39:28.742  0.245  0.066  4.292\n",
       "2       2022-01-28 10:39:28.915  0.261  0.092  4.271\n",
       "3       2022-01-28 10:39:29.237  0.240  0.083  4.260\n",
       "4       2022-01-28 10:39:29.455  0.270  0.086  4.258\n",
       "...                         ...    ...    ...    ...\n",
       "5604981 2022-02-09 15:57:11.679  0.236  0.066  4.267\n",
       "5604982 2022-02-09 15:57:11.867  0.221  0.058  4.265\n",
       "5604983 2022-02-09 15:57:12.062  0.182  0.023  4.277\n",
       "5604984 2022-02-09 15:57:12.205  0.241  0.014  4.265\n",
       "5604985 2022-02-09 15:57:12.444  0.224  0.049  4.280\n",
       "\n",
       "[5604986 rows x 4 columns]"
      ]
     },
     "execution_count": 8,
     "metadata": {},
     "output_type": "execute_result"
    }
   ],
   "source": [
    "df_ts"
   ]
  },
  {
   "cell_type": "code",
   "execution_count": 10,
   "metadata": {},
   "outputs": [
    {
     "data": {
      "text/plain": [
       "False"
      ]
     },
     "execution_count": 10,
     "metadata": {},
     "output_type": "execute_result"
    }
   ],
   "source": [
    "df_ts.is_univariate()"
   ]
  },
  {
   "cell_type": "markdown",
   "metadata": {},
   "source": [
    "### 2. Forecasting"
   ]
  },
  {
   "cell_type": "markdown",
   "metadata": {},
   "source": [
    "nicht so relevant für uns. Müsste mit richtigem DF gemacht werden, dauert dann aber wahrscheinlich sehr lange"
   ]
  },
  {
   "cell_type": "code",
   "execution_count": 6,
   "metadata": {},
   "outputs": [],
   "source": [
    "df_ts_small = df[0:1000]"
   ]
  },
  {
   "cell_type": "code",
   "execution_count": 7,
   "metadata": {},
   "outputs": [],
   "source": [
    "df_ts_small = TimeSeriesData(df_ts_small)"
   ]
  },
  {
   "cell_type": "code",
   "execution_count": 8,
   "metadata": {},
   "outputs": [
    {
     "name": "stderr",
     "output_type": "stream",
     "text": [
      "DEBUG:cmdstanpy:cmd: where.exe tbb.dll\n",
      "cwd: None\n",
      "DEBUG:cmdstanpy:Adding TBB (c:\\Users\\pauls\\AppData\\Local\\Programs\\Python\\Python38\\lib\\site-packages\\prophet\\stan_model\\cmdstan-2.26.1\\stan\\lib\\stan_math\\lib\\tbb) to PATH\n",
      "INFO:prophet:Disabling yearly seasonality. Run prophet with yearly_seasonality=True to override this.\n",
      "INFO:prophet:Disabling weekly seasonality. Run prophet with weekly_seasonality=True to override this.\n",
      "INFO:prophet:Disabling daily seasonality. Run prophet with daily_seasonality=True to override this.\n",
      "DEBUG:cmdstanpy:input tempfile: C:\\Users\\pauls\\AppData\\Local\\Temp\\tmpwpc3hpqs\\kn7edy53.json\n",
      "DEBUG:cmdstanpy:input tempfile: C:\\Users\\pauls\\AppData\\Local\\Temp\\tmpwpc3hpqs\\fmyepl3m.json\n",
      "DEBUG:cmdstanpy:idx 0\n",
      "DEBUG:cmdstanpy:running CmdStan, num_threads: None\n",
      "DEBUG:cmdstanpy:CmdStan args: ['C:\\\\Users\\\\pauls\\\\AppData\\\\Local\\\\Programs\\\\Python\\\\Python38\\\\Lib\\\\site-packages\\\\prophet\\\\stan_model\\\\prophet_model.bin', 'random', 'seed=48444', 'data', 'file=C:\\\\Users\\\\pauls\\\\AppData\\\\Local\\\\Temp\\\\tmpwpc3hpqs\\\\kn7edy53.json', 'init=C:\\\\Users\\\\pauls\\\\AppData\\\\Local\\\\Temp\\\\tmpwpc3hpqs\\\\fmyepl3m.json', 'output', 'file=C:\\\\Users\\\\pauls\\\\AppData\\\\Local\\\\Temp\\\\tmp4oawhhsg\\\\prophet_model-20220830174356.csv', 'method=optimize', 'algorithm=lbfgs', 'iter=10000']\n",
      "17:43:56 - cmdstanpy - INFO - Chain [1] start processing\n",
      "INFO:cmdstanpy:Chain [1] start processing\n",
      "17:43:56 - cmdstanpy - INFO - Chain [1] done processing\n",
      "INFO:cmdstanpy:Chain [1] done processing\n"
     ]
    }
   ],
   "source": [
    "# import the param and model classes for Prophet model\n",
    "from kats.models.prophet import ProphetModel, ProphetParams\n",
    "\n",
    "# create a model param instance\n",
    "params = ProphetParams(seasonality_mode='multiplicative') # additive mode gives worse results\n",
    "\n",
    "# create a prophet model instance\n",
    "m = ProphetModel(df_ts_small, params)\n",
    "\n",
    "# fit model simply by calling m.fit()\n",
    "m.fit()\n",
    "\n",
    "# make prediction for next 3 month\n",
    "fcst = m.predict(steps=3, freq=\"S\")"
   ]
  },
  {
   "cell_type": "code",
   "execution_count": 9,
   "metadata": {},
   "outputs": [
    {
     "data": {
      "text/html": [
       "<div>\n",
       "<style scoped>\n",
       "    .dataframe tbody tr th:only-of-type {\n",
       "        vertical-align: middle;\n",
       "    }\n",
       "\n",
       "    .dataframe tbody tr th {\n",
       "        vertical-align: top;\n",
       "    }\n",
       "\n",
       "    .dataframe thead th {\n",
       "        text-align: right;\n",
       "    }\n",
       "</style>\n",
       "<table border=\"1\" class=\"dataframe\">\n",
       "  <thead>\n",
       "    <tr style=\"text-align: right;\">\n",
       "      <th></th>\n",
       "      <th>time</th>\n",
       "      <th>fcst</th>\n",
       "      <th>fcst_lower</th>\n",
       "      <th>fcst_upper</th>\n",
       "    </tr>\n",
       "  </thead>\n",
       "  <tbody>\n",
       "    <tr>\n",
       "      <th>0</th>\n",
       "      <td>2022-01-28 10:43:26.853</td>\n",
       "      <td>0.051295</td>\n",
       "      <td>-0.324051</td>\n",
       "      <td>0.402970</td>\n",
       "    </tr>\n",
       "    <tr>\n",
       "      <th>1</th>\n",
       "      <td>2022-01-28 10:43:27.853</td>\n",
       "      <td>0.050947</td>\n",
       "      <td>-0.326525</td>\n",
       "      <td>0.395073</td>\n",
       "    </tr>\n",
       "    <tr>\n",
       "      <th>2</th>\n",
       "      <td>2022-01-28 10:43:28.853</td>\n",
       "      <td>0.050600</td>\n",
       "      <td>-0.306009</td>\n",
       "      <td>0.430178</td>\n",
       "    </tr>\n",
       "  </tbody>\n",
       "</table>\n",
       "</div>"
      ],
      "text/plain": [
       "                     time      fcst  fcst_lower  fcst_upper\n",
       "0 2022-01-28 10:43:26.853  0.051295   -0.324051    0.402970\n",
       "1 2022-01-28 10:43:27.853  0.050947   -0.326525    0.395073\n",
       "2 2022-01-28 10:43:28.853  0.050600   -0.306009    0.430178"
      ]
     },
     "execution_count": 9,
     "metadata": {},
     "output_type": "execute_result"
    }
   ],
   "source": [
    "fcst.head()"
   ]
  },
  {
   "cell_type": "code",
   "execution_count": 10,
   "metadata": {},
   "outputs": [
    {
     "data": {
      "text/plain": [
       "<AxesSubplot:xlabel='time', ylabel='y'>"
      ]
     },
     "execution_count": 10,
     "metadata": {},
     "output_type": "execute_result"
    },
    {
     "data": {
      "image/png": "[encoded data removed]",
      "text/plain": [
       "<Figure size 720x432 with 1 Axes>"
      ]
     },
     "metadata": {},
     "output_type": "display_data"
    }
   ],
   "source": [
    "m.plot()"
   ]
  },
  {
   "cell_type": "markdown",
   "metadata": {},
   "source": [
    "### 3. Detection"
   ]
  },
  {
   "cell_type": "markdown",
   "metadata": {},
   "source": [
    "- Outlier Detection. This usually refers to a abnormal spike in a time series data, which can be detected with OutlierDetector\n",
    "- Change Point Detection. This refers to a sudden change that the time series have different statistical properties before and after the change. \n",
    "- Trend Change Detection. This refers to a slow trend change on the time series data, which can be detected with Mann-Kendall detection algorithm, MKDetector"
   ]
  },
  {
   "cell_type": "markdown",
   "metadata": {},
   "source": [
    "beim Kaffee-Datensatz auch nicht relevant"
   ]
  },
  {
   "cell_type": "markdown",
   "metadata": {},
   "source": [
    "### 4. Feature Extraction"
   ]
  },
  {
   "cell_type": "code",
   "execution_count": 11,
   "metadata": {},
   "outputs": [],
   "source": [
    "# Initiate feature extraction class\n",
    "from kats.tsfeatures.tsfeatures import TsFeatures\n",
    "tsFeatures = TsFeatures()"
   ]
  },
  {
   "cell_type": "code",
   "execution_count": 13,
   "metadata": {},
   "outputs": [
    {
     "name": "stderr",
     "output_type": "stream",
     "text": [
      "c:\\Users\\pauls\\AppData\\Local\\Programs\\Python\\Python38\\lib\\site-packages\\statsmodels\\tsa\\stattools.py:1910: InterpolationWarning:\n",
      "\n",
      "The test statistic is outside of the range of p-values available in the\n",
      "look-up table. The actual p-value is greater than the p-value returned.\n",
      "\n",
      "\n",
      "WARNING:root:Holt-Winters failed Data must be positive.\n",
      "c:\\Users\\pauls\\AppData\\Local\\Programs\\Python\\Python38\\lib\\site-packages\\kats\\tsfeatures\\tsfeatures.py:713: RuntimeWarning:\n",
      "\n",
      "divide by zero encountered in log2\n",
      "\n",
      "c:\\Users\\pauls\\AppData\\Local\\Programs\\Python\\Python38\\lib\\site-packages\\kats\\tsfeatures\\tsfeatures.py:713: RuntimeWarning:\n",
      "\n",
      "invalid value encountered in multiply\n",
      "\n",
      "WARNING:root:Holt-Winters failed Data must be positive.\n",
      "c:\\Users\\pauls\\AppData\\Local\\Programs\\Python\\Python38\\lib\\site-packages\\statsmodels\\tsa\\stattools.py:1906: InterpolationWarning:\n",
      "\n",
      "The test statistic is outside of the range of p-values available in the\n",
      "look-up table. The actual p-value is smaller than the p-value returned.\n",
      "\n",
      "\n"
     ]
    }
   ],
   "source": [
    "features_df = TsFeatures().transform(df_ts_small)"
   ]
  },
  {
   "cell_type": "code",
   "execution_count": 14,
   "metadata": {},
   "outputs": [
    {
     "data": {
      "text/plain": [
       "[{'length': 1000,\n",
       "  'mean': 0.24047899917652832,\n",
       "  'var': 0.04648289608469161,\n",
       "  'entropy': 0.9192183857697614,\n",
       "  'lumpiness': 0.00966527096869079,\n",
       "  'stability': 0.007462640467286186,\n",
       "  'flat_spots': 2,\n",
       "  'hurst': 0.06077795293706838,\n",
       "  'std1st_der': 0.14525588454521698,\n",
       "  'crossing_points': 488,\n",
       "  'binarize_mean': 0.62,\n",
       "  'unitroot_kpss': 0.05135105876922539,\n",
       "  'heterogeneity': 183.73139421053244,\n",
       "  'histogram_mode': 0.09539997577667236,\n",
       "  'linearity': 0.00014265363720695118,\n",
       "  'trend_strength': 0.38271685665353183,\n",
       "  'seasonality_strength': 0.36071366479346667,\n",
       "  'spikiness': 8.542731426590265e-09,\n",
       "  'peak': 4,\n",
       "  'trough': 5,\n",
       "  'level_shift_idx': 518,\n",
       "  'level_shift_size': 0.13914999961853025,\n",
       "  'y_acf1': 0.14682431793714987,\n",
       "  'y_acf5': 0.10519678874242208,\n",
       "  'diff1y_acf1': -0.46798099029723994,\n",
       "  'diff1y_acf5': 0.22807458981362985,\n",
       "  'diff2y_acf1': -0.6349962530973328,\n",
       "  'diff2y_acf5': 0.4153468615216366,\n",
       "  'y_pacf5': 0.07318228467088357,\n",
       "  'diff1y_pacf5': 0.477149967947176,\n",
       "  'diff2y_pacf5': 1.0921877476775743,\n",
       "  'seas_acf1': 0.08611480641943653,\n",
       "  'seas_pacf1': 0.034458402060972386,\n",
       "  'firstmin_ac': 2,\n",
       "  'firstzero_ac': 10,\n",
       "  'holt_alpha': 0.14644528042298707,\n",
       "  'holt_beta': 0.0,\n",
       "  'hw_alpha': nan,\n",
       "  'hw_beta': nan,\n",
       "  'hw_gamma': nan},\n",
       " {'length': 1000,\n",
       "  'mean': 0.07706200050225016,\n",
       "  'var': 0.08035380824348345,\n",
       "  'entropy': 0.9428797198770229,\n",
       "  'lumpiness': 0.049277592107925365,\n",
       "  'stability': 0.006876775846157189,\n",
       "  'flat_spots': 2,\n",
       "  'hurst': 0.010299451417573569,\n",
       "  'std1st_der': 0.18954480391869688,\n",
       "  'crossing_points': 460,\n",
       "  'binarize_mean': 0.26,\n",
       "  'unitroot_kpss': 0.13896732403939493,\n",
       "  'heterogeneity': 351.6736836896903,\n",
       "  'histogram_mode': -0.2912999391555786,\n",
       "  'linearity': 8.427236697048394e-05,\n",
       "  'trend_strength': 0.29660246760043407,\n",
       "  'seasonality_strength': 0.3227684132650125,\n",
       "  'spikiness': 5.020416635993782e-08,\n",
       "  'peak': 2,\n",
       "  'trough': 6,\n",
       "  'level_shift_idx': 534,\n",
       "  'level_shift_size': 0.16389999389648438,\n",
       "  'y_acf1': 0.04850565366635524,\n",
       "  'y_acf5': 0.02279822976723348,\n",
       "  'diff1y_acf1': -0.5300930956164314,\n",
       "  'diff1y_acf5': 0.29615790356689187,\n",
       "  'diff2y_acf1': -0.687999857986523,\n",
       "  'diff2y_acf5': 0.5214077297274385,\n",
       "  'y_pacf5': 0.023976818107544803,\n",
       "  'diff1y_pacf5': 0.45191126100048584,\n",
       "  'diff2y_pacf5': 1.0826586990664613,\n",
       "  'seas_acf1': -0.10993631102119573,\n",
       "  'seas_pacf1': -0.09527857842762046,\n",
       "  'firstmin_ac': 1,\n",
       "  'firstzero_ac': 4,\n",
       "  'holt_alpha': 1.490169493028526e-08,\n",
       "  'holt_beta': 8.694251335194036e-09,\n",
       "  'hw_alpha': nan,\n",
       "  'hw_beta': nan,\n",
       "  'hw_gamma': nan},\n",
       " {'length': 1000,\n",
       "  'mean': 4.227754999697209,\n",
       "  'var': 0.22605319123004267,\n",
       "  'entropy': 0.9238797334712296,\n",
       "  'lumpiness': 0.2723084857177214,\n",
       "  'stability': 0.042068774453647394,\n",
       "  'flat_spots': 3,\n",
       "  'hurst': 0.022736516364719208,\n",
       "  'std1st_der': 0.2855487770965684,\n",
       "  'crossing_points': 484,\n",
       "  'binarize_mean': 0.898,\n",
       "  'unitroot_kpss': 0.33027172597669,\n",
       "  'heterogeneity': 121.01206930190077,\n",
       "  'histogram_mode': 4.216999918222427,\n",
       "  'linearity': 9.536214303434626e-05,\n",
       "  'trend_strength': 0.3929520904549174,\n",
       "  'seasonality_strength': 0.3382988414458308,\n",
       "  'spikiness': 2.732958794805524e-07,\n",
       "  'peak': 1,\n",
       "  'trough': 0,\n",
       "  'level_shift_idx': 520,\n",
       "  'level_shift_size': 0.269550007581711,\n",
       "  'y_acf1': 0.2325213465444661,\n",
       "  'y_acf5': 0.1427188939696668,\n",
       "  'diff1y_acf1': -0.5300136292975715,\n",
       "  'diff1y_acf5': 0.4664037423340582,\n",
       "  'diff2y_acf1': -0.7523631578938575,\n",
       "  'diff2y_acf5': 0.9361299659301607,\n",
       "  'y_pacf5': 0.1429272090435568,\n",
       "  'diff1y_pacf5': 0.39114338356306183,\n",
       "  'diff2y_pacf5': 0.9294025287733207,\n",
       "  'seas_acf1': -0.009279253611712144,\n",
       "  'seas_pacf1': 0.02389939743115779,\n",
       "  'firstmin_ac': 1,\n",
       "  'firstzero_ac': 3,\n",
       "  'holt_alpha': 0.021732588736510242,\n",
       "  'holt_beta': 0.0,\n",
       "  'hw_alpha': 3.7813474971581553e-08,\n",
       "  'hw_beta': 2.2759322160733024e-08,\n",
       "  'hw_gamma': 1.7610729417183428e-16}]"
      ]
     },
     "execution_count": 14,
     "metadata": {},
     "output_type": "execute_result"
    }
   ],
   "source": [
    "features_df"
   ]
  },
  {
   "cell_type": "code",
   "execution_count": null,
   "metadata": {},
   "outputs": [],
   "source": []
  }
 ],
 "metadata": {
  "kernelspec": {
   "display_name": "Python 3.8.10 64-bit",
   "language": "python",
   "name": "python3"
  },
  "language_info": {
   "codemirror_mode": {
    "name": "ipython",
    "version": 3
   },
   "file_extension": ".py",
   "mimetype": "text/x-python",
   "name": "python",
   "nbconvert_exporter": "python",
   "pygments_lexer": "ipython3",
   "version": "3.8.10"
  },
  "orig_nbformat": 4,
  "vscode": {
   "interpreter": {
    "hash": "3d254f2afea9c9e75c1ef291adba6ecf1164cddb1c67abfc00070aa70dea71a0"
   }
  }
 },
 "nbformat": 4,
 "nbformat_minor": 2
}
