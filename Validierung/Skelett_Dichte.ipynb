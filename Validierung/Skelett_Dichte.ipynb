{
 "cells": [
  {
   "cell_type": "markdown",
   "metadata": {},
   "source": [
    "Sekelett-Code für schnelle Analyse des Datensatzes.\n",
    "Überall, wo ein X steht muss der Code auf den bestimmten Datensatz angepasst werden."
   ]
  },
  {
   "cell_type": "code",
   "execution_count": null,
   "metadata": {},
   "outputs": [],
   "source": [
    "# importieren der relevanten Bibliotheken\n",
    "import numpy as np\n",
    "import pandas as pd\n",
    "import matplotlib.pyplot as plt\n",
    "\n",
    "import seaborn as sns\n",
    "from datetime import datetime\n",
    "\n",
    "import matplotlib.dates as mdates\n",
    "from matplotlib.dates import DateFormatter"
   ]
  },
  {
   "cell_type": "code",
   "execution_count": null,
   "metadata": {},
   "outputs": [],
   "source": [
    "# Datensatz einlesen\n",
    "df = pd.read_csv('../02_Daten/XXX.csv', sep='X')"
   ]
  },
  {
   "cell_type": "markdown",
   "metadata": {},
   "source": [
    "erste Informationen über Datensatz bekommen"
   ]
  },
  {
   "cell_type": "code",
   "execution_count": null,
   "metadata": {},
   "outputs": [],
   "source": [
    "df.head()"
   ]
  },
  {
   "cell_type": "code",
   "execution_count": null,
   "metadata": {},
   "outputs": [],
   "source": [
    "df.info()"
   ]
  },
  {
   "cell_type": "code",
   "execution_count": null,
   "metadata": {},
   "outputs": [],
   "source": [
    "df.describe()"
   ]
  },
  {
   "cell_type": "code",
   "execution_count": null,
   "metadata": {},
   "outputs": [],
   "source": [
    "# Richtige Zeit für alle Einträge\n",
    "# X = Spalte mit Timestamps\n",
    "df['date'] = [datetime.utcfromtimestamp(x/1000) for x in df['X']]"
   ]
  },
  {
   "cell_type": "code",
   "execution_count": null,
   "metadata": {},
   "outputs": [],
   "source": [
    "# Grafik über den gesamten Zeitraum erstellen, um einen ersten Überblick zu erhalten\n",
    "fig, ax = plt.subplots(figsize=(10,6))\n",
    "ax.scatter(df.date, df.druck, color='red', label='Druck', s=0.5)\n",
    "ax.scatter(df.date, df.leck, color='blue', label='Leck', s=0.5)\n",
    "ax.scatter(df.date, df.status, color='green', label='Status', s=0.5)\n",
    "\n",
    "date_form = DateFormatter(\"%d.%m.\")\n",
    "ax.xaxis.set_major_locator(mdates.DayLocator(interval=2)) # damit nicht direkt nach dem 31.10 der 01.11 angezeigt wird\n",
    "ax.xaxis.set_major_formatter(date_form)\n",
    "\n",
    "ax.set_title(\"Druck- und Leckwerte über den gesamten Zeitraum\", fontsize=16)\n",
    "ax.set_xlabel(\"Datum\", fontsize=14)\n",
    "ax.set_ylabel(\"Messwerte\", fontsize=14)\n",
    "\n",
    "lgnd = plt.legend(loc=4, numpoints=1, fontsize=10)\n",
    "\n",
    "#change the marker size manually for lines\n",
    "lgnd.legendHandles[0]._sizes = [20]\n",
    "lgnd.legendHandles[1]._sizes = [20]\n",
    "lgnd.legendHandles[2]._sizes = [20]"
   ]
  }
 ],
 "metadata": {
  "kernelspec": {
   "display_name": "Python 3.8.10 64-bit",
   "language": "python",
   "name": "python3"
  },
  "language_info": {
   "name": "python",
   "version": "3.8.10"
  },
  "orig_nbformat": 4,
  "vscode": {
   "interpreter": {
    "hash": "3d254f2afea9c9e75c1ef291adba6ecf1164cddb1c67abfc00070aa70dea71a0"
   }
  }
 },
 "nbformat": 4,
 "nbformat_minor": 2
}
