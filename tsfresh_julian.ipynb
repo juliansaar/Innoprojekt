{
 "cells": [
  {
   "cell_type": "code",
   "execution_count": 1,
   "metadata": {},
   "outputs": [],
   "source": [
    "import tsfresh as ts\n",
    "\n",
    "import numpy as np\n",
    "import pandas as pd\n",
    "import matplotlib.pyplot as plt\n",
    "%matplotlib inline\n",
    "import seaborn as sns\n",
    "from datetime import datetime, timedelta\n",
    "\n",
    "import matplotlib.dates as mdates\n",
    "from matplotlib.dates import DateFormatter\n",
    "import pickle"
   ]
  },
  {
   "cell_type": "code",
   "execution_count": 23,
   "metadata": {},
   "outputs": [],
   "source": [
    "with open('../02_Daten/Kaffeemaschine/preprocessed_coffee_scaled.pickle', 'rb') as handle:\n",
    "    df = pickle.load(handle)"
   ]
  },
  {
   "cell_type": "markdown",
   "metadata": {},
   "source": [
    "### DF passend für tsfresh machen"
   ]
  },
  {
   "cell_type": "code",
   "execution_count": 3,
   "metadata": {},
   "outputs": [
    {
     "data": {
      "text/html": [
       "<div>\n",
       "<style scoped>\n",
       "    .dataframe tbody tr th:only-of-type {\n",
       "        vertical-align: middle;\n",
       "    }\n",
       "\n",
       "    .dataframe tbody tr th {\n",
       "        vertical-align: top;\n",
       "    }\n",
       "\n",
       "    .dataframe thead th {\n",
       "        text-align: right;\n",
       "    }\n",
       "</style>\n",
       "<table border=\"1\" class=\"dataframe\">\n",
       "  <thead>\n",
       "    <tr style=\"text-align: right;\">\n",
       "      <th></th>\n",
       "      <th>time</th>\n",
       "      <th>day_number</th>\n",
       "      <th>day_name</th>\n",
       "      <th>Status</th>\n",
       "      <th>x</th>\n",
       "      <th>y</th>\n",
       "      <th>z</th>\n",
       "    </tr>\n",
       "  </thead>\n",
       "  <tbody>\n",
       "    <tr>\n",
       "      <th>0</th>\n",
       "      <td>2022-01-28 10:39:28.532</td>\n",
       "      <td>4</td>\n",
       "      <td>Freitag</td>\n",
       "      <td>0</td>\n",
       "      <td>-0.286314</td>\n",
       "      <td>0.185127</td>\n",
       "      <td>-0.094353</td>\n",
       "    </tr>\n",
       "    <tr>\n",
       "      <th>1</th>\n",
       "      <td>2022-01-28 10:39:28.742</td>\n",
       "      <td>4</td>\n",
       "      <td>Freitag</td>\n",
       "      <td>0</td>\n",
       "      <td>-0.224631</td>\n",
       "      <td>0.579710</td>\n",
       "      <td>0.564770</td>\n",
       "    </tr>\n",
       "    <tr>\n",
       "      <th>2</th>\n",
       "      <td>2022-01-28 10:39:28.915</td>\n",
       "      <td>4</td>\n",
       "      <td>Freitag</td>\n",
       "      <td>0</td>\n",
       "      <td>0.104340</td>\n",
       "      <td>1.368876</td>\n",
       "      <td>0.011101</td>\n",
       "    </tr>\n",
       "    <tr>\n",
       "      <th>3</th>\n",
       "      <td>2022-01-28 10:39:29.237</td>\n",
       "      <td>4</td>\n",
       "      <td>Freitag</td>\n",
       "      <td>0</td>\n",
       "      <td>-0.327435</td>\n",
       "      <td>1.095703</td>\n",
       "      <td>-0.278910</td>\n",
       "    </tr>\n",
       "    <tr>\n",
       "      <th>4</th>\n",
       "      <td>2022-01-28 10:39:29.455</td>\n",
       "      <td>4</td>\n",
       "      <td>Freitag</td>\n",
       "      <td>0</td>\n",
       "      <td>0.289387</td>\n",
       "      <td>1.186761</td>\n",
       "      <td>-0.331649</td>\n",
       "    </tr>\n",
       "  </tbody>\n",
       "</table>\n",
       "</div>"
      ],
      "text/plain": [
       "                     time  day_number day_name  Status         x         y  \\\n",
       "0 2022-01-28 10:39:28.532           4  Freitag       0 -0.286314  0.185127   \n",
       "1 2022-01-28 10:39:28.742           4  Freitag       0 -0.224631  0.579710   \n",
       "2 2022-01-28 10:39:28.915           4  Freitag       0  0.104340  1.368876   \n",
       "3 2022-01-28 10:39:29.237           4  Freitag       0 -0.327435  1.095703   \n",
       "4 2022-01-28 10:39:29.455           4  Freitag       0  0.289387  1.186761   \n",
       "\n",
       "          z  \n",
       "0 -0.094353  \n",
       "1  0.564770  \n",
       "2  0.011101  \n",
       "3 -0.278910  \n",
       "4 -0.331649  "
      ]
     },
     "execution_count": 3,
     "metadata": {},
     "output_type": "execute_result"
    }
   ],
   "source": [
    "df.head()"
   ]
  },
  {
   "cell_type": "code",
   "execution_count": 24,
   "metadata": {},
   "outputs": [],
   "source": [
    "df.drop(['day_number','day_name','Status'], axis=1, inplace=True)"
   ]
  },
  {
   "cell_type": "code",
   "execution_count": 25,
   "metadata": {},
   "outputs": [],
   "source": [
    "df['id'] = 1"
   ]
  },
  {
   "cell_type": "code",
   "execution_count": 6,
   "metadata": {},
   "outputs": [
    {
     "data": {
      "text/html": [
       "<div>\n",
       "<style scoped>\n",
       "    .dataframe tbody tr th:only-of-type {\n",
       "        vertical-align: middle;\n",
       "    }\n",
       "\n",
       "    .dataframe tbody tr th {\n",
       "        vertical-align: top;\n",
       "    }\n",
       "\n",
       "    .dataframe thead th {\n",
       "        text-align: right;\n",
       "    }\n",
       "</style>\n",
       "<table border=\"1\" class=\"dataframe\">\n",
       "  <thead>\n",
       "    <tr style=\"text-align: right;\">\n",
       "      <th></th>\n",
       "      <th>time</th>\n",
       "      <th>x</th>\n",
       "      <th>y</th>\n",
       "      <th>z</th>\n",
       "      <th>id</th>\n",
       "    </tr>\n",
       "  </thead>\n",
       "  <tbody>\n",
       "    <tr>\n",
       "      <th>0</th>\n",
       "      <td>2022-01-28 10:39:28.532</td>\n",
       "      <td>-0.286314</td>\n",
       "      <td>0.185127</td>\n",
       "      <td>-0.094353</td>\n",
       "      <td>1</td>\n",
       "    </tr>\n",
       "    <tr>\n",
       "      <th>1</th>\n",
       "      <td>2022-01-28 10:39:28.742</td>\n",
       "      <td>-0.224631</td>\n",
       "      <td>0.579710</td>\n",
       "      <td>0.564770</td>\n",
       "      <td>1</td>\n",
       "    </tr>\n",
       "    <tr>\n",
       "      <th>2</th>\n",
       "      <td>2022-01-28 10:39:28.915</td>\n",
       "      <td>0.104340</td>\n",
       "      <td>1.368876</td>\n",
       "      <td>0.011101</td>\n",
       "      <td>1</td>\n",
       "    </tr>\n",
       "    <tr>\n",
       "      <th>3</th>\n",
       "      <td>2022-01-28 10:39:29.237</td>\n",
       "      <td>-0.327435</td>\n",
       "      <td>1.095703</td>\n",
       "      <td>-0.278910</td>\n",
       "      <td>1</td>\n",
       "    </tr>\n",
       "    <tr>\n",
       "      <th>4</th>\n",
       "      <td>2022-01-28 10:39:29.455</td>\n",
       "      <td>0.289387</td>\n",
       "      <td>1.186761</td>\n",
       "      <td>-0.331649</td>\n",
       "      <td>1</td>\n",
       "    </tr>\n",
       "  </tbody>\n",
       "</table>\n",
       "</div>"
      ],
      "text/plain": [
       "                     time         x         y         z  id\n",
       "0 2022-01-28 10:39:28.532 -0.286314  0.185127 -0.094353   1\n",
       "1 2022-01-28 10:39:28.742 -0.224631  0.579710  0.564770   1\n",
       "2 2022-01-28 10:39:28.915  0.104340  1.368876  0.011101   1\n",
       "3 2022-01-28 10:39:29.237 -0.327435  1.095703 -0.278910   1\n",
       "4 2022-01-28 10:39:29.455  0.289387  1.186761 -0.331649   1"
      ]
     },
     "execution_count": 6,
     "metadata": {},
     "output_type": "execute_result"
    }
   ],
   "source": [
    "df.head()"
   ]
  },
  {
   "cell_type": "code",
   "execution_count": 6,
   "metadata": {},
   "outputs": [
    {
     "data": {
      "text/html": [
       "<div>\n",
       "<style scoped>\n",
       "    .dataframe tbody tr th:only-of-type {\n",
       "        vertical-align: middle;\n",
       "    }\n",
       "\n",
       "    .dataframe tbody tr th {\n",
       "        vertical-align: top;\n",
       "    }\n",
       "\n",
       "    .dataframe thead th {\n",
       "        text-align: right;\n",
       "    }\n",
       "</style>\n",
       "<table border=\"1\" class=\"dataframe\">\n",
       "  <thead>\n",
       "    <tr style=\"text-align: right;\">\n",
       "      <th></th>\n",
       "      <th>x</th>\n",
       "      <th>y</th>\n",
       "      <th>z</th>\n",
       "      <th>id</th>\n",
       "    </tr>\n",
       "  </thead>\n",
       "  <tbody>\n",
       "    <tr>\n",
       "      <th>count</th>\n",
       "      <td>5.604986e+06</td>\n",
       "      <td>5.604986e+06</td>\n",
       "      <td>5.604986e+06</td>\n",
       "      <td>5604986.0</td>\n",
       "    </tr>\n",
       "    <tr>\n",
       "      <th>mean</th>\n",
       "      <td>5.604643e-16</td>\n",
       "      <td>-8.559089e-16</td>\n",
       "      <td>6.900529e-15</td>\n",
       "      <td>1.0</td>\n",
       "    </tr>\n",
       "    <tr>\n",
       "      <th>std</th>\n",
       "      <td>1.000000e+00</td>\n",
       "      <td>1.000000e+00</td>\n",
       "      <td>1.000000e+00</td>\n",
       "      <td>0.0</td>\n",
       "    </tr>\n",
       "    <tr>\n",
       "      <th>min</th>\n",
       "      <td>-1.004993e+02</td>\n",
       "      <td>-9.466661e+01</td>\n",
       "      <td>-2.179511e+02</td>\n",
       "      <td>1.0</td>\n",
       "    </tr>\n",
       "    <tr>\n",
       "      <th>25%</th>\n",
       "      <td>-6.769673e-01</td>\n",
       "      <td>-3.915717e-01</td>\n",
       "      <td>-2.789096e-01</td>\n",
       "      <td>1.0</td>\n",
       "    </tr>\n",
       "    <tr>\n",
       "      <th>50%</th>\n",
       "      <td>-1.423885e-01</td>\n",
       "      <td>6.371652e-02</td>\n",
       "      <td>-1.526284e-02</td>\n",
       "      <td>1.0</td>\n",
       "    </tr>\n",
       "    <tr>\n",
       "      <th>75%</th>\n",
       "      <td>7.211624e-01</td>\n",
       "      <td>4.582997e-01</td>\n",
       "      <td>2.747600e-01</td>\n",
       "      <td>1.0</td>\n",
       "    </tr>\n",
       "    <tr>\n",
       "      <th>max</th>\n",
       "      <td>6.343139e+01</td>\n",
       "      <td>9.518863e+01</td>\n",
       "      <td>1.033632e+02</td>\n",
       "      <td>1.0</td>\n",
       "    </tr>\n",
       "  </tbody>\n",
       "</table>\n",
       "</div>"
      ],
      "text/plain": [
       "                  x             y             z         id\n",
       "count  5.604986e+06  5.604986e+06  5.604986e+06  5604986.0\n",
       "mean   5.604643e-16 -8.559089e-16  6.900529e-15        1.0\n",
       "std    1.000000e+00  1.000000e+00  1.000000e+00        0.0\n",
       "min   -1.004993e+02 -9.466661e+01 -2.179511e+02        1.0\n",
       "25%   -6.769673e-01 -3.915717e-01 -2.789096e-01        1.0\n",
       "50%   -1.423885e-01  6.371652e-02 -1.526284e-02        1.0\n",
       "75%    7.211624e-01  4.582997e-01  2.747600e-01        1.0\n",
       "max    6.343139e+01  9.518863e+01  1.033632e+02        1.0"
      ]
     },
     "execution_count": 6,
     "metadata": {},
     "output_type": "execute_result"
    }
   ],
   "source": [
    "df.describe()"
   ]
  },
  {
   "cell_type": "markdown",
   "metadata": {},
   "source": [
    "## Rolling"
   ]
  },
  {
   "cell_type": "markdown",
   "metadata": {},
   "source": [
    "mit komplettem Datensatz probieren"
   ]
  },
  {
   "cell_type": "code",
   "execution_count": 8,
   "metadata": {},
   "outputs": [
    {
     "data": {
      "text/plain": [
       "<matplotlib.legend.Legend at 0x1b18899cc70>"
      ]
     },
     "execution_count": 8,
     "metadata": {},
     "output_type": "execute_result"
    },
    {
     "data": {
      "image/png": "[encoded data removed]",
      "text/plain": [
       "<Figure size 1152x432 with 1 Axes>"
      ]
     },
     "metadata": {
      "needs_background": "light"
     },
     "output_type": "display_data"
    }
   ],
   "source": [
    "fig, ax = plt.subplots(figsize=(16,6))\n",
    "ax.plot(df.time, df.x, label=\"x\")\n",
    "ax.plot(df.time, df.y, label='y')\n",
    "ax.plot(df.time, df.z, label='z')\n",
    "\n",
    "ax.set_xlabel(\"Uhrzeit (hh:mm:ss)\", fontsize=14)\n",
    "ax.set_ylabel(\"Vibrations-Ausschlag\", fontsize=14)\n",
    "\n",
    "plt.legend(loc=4)"
   ]
  },
  {
   "cell_type": "code",
   "execution_count": 20,
   "metadata": {},
   "outputs": [
    {
     "data": {
      "text/plain": [
       "<matplotlib.legend.Legend at 0x1b1b319b5e0>"
      ]
     },
     "execution_count": 20,
     "metadata": {},
     "output_type": "execute_result"
    },
    {
     "data": {
      "image/png": "[encoded data removed]",
      "text/plain": [
       "<Figure size 1152x432 with 1 Axes>"
      ]
     },
     "metadata": {
      "needs_background": "light"
     },
     "output_type": "display_data"
    }
   ],
   "source": [
    "fig, ax = plt.subplots(figsize=(16,6))\n",
    "ax.plot(df.time[5000000:], df.x[5000000:], label=\"x\")\n",
    "ax.plot(df.time[5000000:], df.y[5000000:], label='y')\n",
    "ax.plot(df.time[5000000:], df.z[5000000:], label='z')\n",
    "\n",
    "ax.set_xlabel(\"Uhrzeit (hh:mm:ss)\", fontsize=14)\n",
    "ax.set_ylabel(\"Vibrations-Ausschlag\", fontsize=14)\n",
    "\n",
    "plt.legend(loc=4)"
   ]
  },
  {
   "cell_type": "code",
   "execution_count": 28,
   "metadata": {},
   "outputs": [],
   "source": [
    "#bis 500.000\n",
    "#ab 1.300.000 bis 3.500.000\n",
    "#ab 5.000.000\n",
    "df_small = df[:500000]\n",
    "df_small = df_small.append(df[1300000:3500000])\n",
    "df_small = df_small.append(df[5000000:])"
   ]
  },
  {
   "cell_type": "code",
   "execution_count": 30,
   "metadata": {},
   "outputs": [
    {
     "data": {
      "text/plain": [
       "<matplotlib.legend.Legend at 0x1b1d29eafd0>"
      ]
     },
     "execution_count": 30,
     "metadata": {},
     "output_type": "execute_result"
    },
    {
     "data": {
      "image/png": "[encoded data removed]",
      "text/plain": [
       "<Figure size 1152x432 with 1 Axes>"
      ]
     },
     "metadata": {
      "needs_background": "light"
     },
     "output_type": "display_data"
    }
   ],
   "source": [
    "fig, ax = plt.subplots(figsize=(16,6))\n",
    "ax.scatter(df_small.time, df_small.x, label=\"x\")\n",
    "ax.scatter(df_small.time, df_small.y, label='y')\n",
    "ax.scatter(df_small.time, df_small.z, label='z')\n",
    "\n",
    "ax.set_xlabel(\"Uhrzeit (hh:mm:ss)\", fontsize=14)\n",
    "ax.set_ylabel(\"Vibrations-Ausschlag\", fontsize=14)\n",
    "\n",
    "plt.legend(loc=4)"
   ]
  },
  {
   "cell_type": "code",
   "execution_count": 31,
   "metadata": {},
   "outputs": [],
   "source": [
    "df_small.time = df_small.index"
   ]
  },
  {
   "cell_type": "code",
   "execution_count": 32,
   "metadata": {},
   "outputs": [
    {
     "name": "stderr",
     "output_type": "stream",
     "text": [
      "c:\\Users\\pauls\\AppData\\Local\\Programs\\Python\\Python38\\lib\\site-packages\\tsfresh\\utilities\\dataframe_functions.py:520: UserWarning: Your time stamps are not uniformly sampled, which makes rolling nonsensical in some domains.\n",
      "  warnings.warn(\n",
      "Rolling:   0%|          | 0/10 [00:00<?, ?it/s]"
     ]
    }
   ],
   "source": [
    "from tsfresh.utilities.dataframe_functions import roll_time_series\n",
    "df_rolled = roll_time_series(df_small, column_id=\"id\", column_sort=\"time\", max_timeshift=250, rolling_direction=4) \n",
    "#rolling_direction: The absolute value decides, how much to shift at each step. -> um Zeit und Ressourcen zu sparen, immer 4 Schritte gehen"
   ]
  },
  {
   "cell_type": "code",
   "execution_count": 10,
   "metadata": {},
   "outputs": [
    {
     "data": {
      "text/html": [
       "<div>\n",
       "<style scoped>\n",
       "    .dataframe tbody tr th:only-of-type {\n",
       "        vertical-align: middle;\n",
       "    }\n",
       "\n",
       "    .dataframe tbody tr th {\n",
       "        vertical-align: top;\n",
       "    }\n",
       "\n",
       "    .dataframe thead th {\n",
       "        text-align: right;\n",
       "    }\n",
       "</style>\n",
       "<table border=\"1\" class=\"dataframe\">\n",
       "  <thead>\n",
       "    <tr style=\"text-align: right;\">\n",
       "      <th></th>\n",
       "      <th>time</th>\n",
       "      <th>x</th>\n",
       "      <th>y</th>\n",
       "      <th>z</th>\n",
       "      <th>id</th>\n",
       "    </tr>\n",
       "  </thead>\n",
       "  <tbody>\n",
       "    <tr>\n",
       "      <th>0</th>\n",
       "      <td>1080000</td>\n",
       "      <td>-0.697528</td>\n",
       "      <td>0.488652</td>\n",
       "      <td>-0.278910</td>\n",
       "      <td>(1, 1080003)</td>\n",
       "    </tr>\n",
       "    <tr>\n",
       "      <th>1</th>\n",
       "      <td>1080001</td>\n",
       "      <td>0.248266</td>\n",
       "      <td>0.458300</td>\n",
       "      <td>0.301123</td>\n",
       "      <td>(1, 1080003)</td>\n",
       "    </tr>\n",
       "    <tr>\n",
       "      <th>2</th>\n",
       "      <td>1080002</td>\n",
       "      <td>0.063219</td>\n",
       "      <td>-0.270162</td>\n",
       "      <td>-1.412625</td>\n",
       "      <td>(1, 1080003)</td>\n",
       "    </tr>\n",
       "    <tr>\n",
       "      <th>3</th>\n",
       "      <td>1080003</td>\n",
       "      <td>-0.676967</td>\n",
       "      <td>0.519005</td>\n",
       "      <td>0.037464</td>\n",
       "      <td>(1, 1080003)</td>\n",
       "    </tr>\n",
       "    <tr>\n",
       "      <th>4</th>\n",
       "      <td>1080000</td>\n",
       "      <td>-0.697528</td>\n",
       "      <td>0.488652</td>\n",
       "      <td>-0.278910</td>\n",
       "      <td>(1, 1080007)</td>\n",
       "    </tr>\n",
       "    <tr>\n",
       "      <th>...</th>\n",
       "      <td>...</td>\n",
       "      <td>...</td>\n",
       "      <td>...</td>\n",
       "      <td>...</td>\n",
       "      <td>...</td>\n",
       "    </tr>\n",
       "    <tr>\n",
       "      <th>50192245</th>\n",
       "      <td>1879995</td>\n",
       "      <td>-0.841453</td>\n",
       "      <td>0.094069</td>\n",
       "      <td>0.195657</td>\n",
       "      <td>(1, 1879999)</td>\n",
       "    </tr>\n",
       "    <tr>\n",
       "      <th>50192246</th>\n",
       "      <td>1879996</td>\n",
       "      <td>-0.347996</td>\n",
       "      <td>-1.089681</td>\n",
       "      <td>-0.621659</td>\n",
       "      <td>(1, 1879999)</td>\n",
       "    </tr>\n",
       "    <tr>\n",
       "      <th>50192247</th>\n",
       "      <td>1879997</td>\n",
       "      <td>-0.347996</td>\n",
       "      <td>-0.270162</td>\n",
       "      <td>-0.727126</td>\n",
       "      <td>(1, 1879999)</td>\n",
       "    </tr>\n",
       "    <tr>\n",
       "      <th>50192248</th>\n",
       "      <td>1879998</td>\n",
       "      <td>-0.368556</td>\n",
       "      <td>-0.270162</td>\n",
       "      <td>0.169294</td>\n",
       "      <td>(1, 1879999)</td>\n",
       "    </tr>\n",
       "    <tr>\n",
       "      <th>50192249</th>\n",
       "      <td>1879999</td>\n",
       "      <td>-0.759210</td>\n",
       "      <td>-0.512982</td>\n",
       "      <td>-0.147093</td>\n",
       "      <td>(1, 1879999)</td>\n",
       "    </tr>\n",
       "  </tbody>\n",
       "</table>\n",
       "<p>50192250 rows × 5 columns</p>\n",
       "</div>"
      ],
      "text/plain": [
       "             time         x         y         z            id\n",
       "0         1080000 -0.697528  0.488652 -0.278910  (1, 1080003)\n",
       "1         1080001  0.248266  0.458300  0.301123  (1, 1080003)\n",
       "2         1080002  0.063219 -0.270162 -1.412625  (1, 1080003)\n",
       "3         1080003 -0.676967  0.519005  0.037464  (1, 1080003)\n",
       "4         1080000 -0.697528  0.488652 -0.278910  (1, 1080007)\n",
       "...           ...       ...       ...       ...           ...\n",
       "50192245  1879995 -0.841453  0.094069  0.195657  (1, 1879999)\n",
       "50192246  1879996 -0.347996 -1.089681 -0.621659  (1, 1879999)\n",
       "50192247  1879997 -0.347996 -0.270162 -0.727126  (1, 1879999)\n",
       "50192248  1879998 -0.368556 -0.270162  0.169294  (1, 1879999)\n",
       "50192249  1879999 -0.759210 -0.512982 -0.147093  (1, 1879999)\n",
       "\n",
       "[50192250 rows x 5 columns]"
      ]
     },
     "execution_count": 10,
     "metadata": {},
     "output_type": "execute_result"
    }
   ],
   "source": [
    "df_rolled"
   ]
  },
  {
   "cell_type": "code",
   "execution_count": 11,
   "metadata": {},
   "outputs": [],
   "source": [
    "# irgendwo speichern, am besten direkt im OneDrive\n",
    "with open('../Innoprojekt/df_rolled_full.pickle', 'wb') as handle:\n",
    "    pickle.dump(df_rolled, handle, protocol=pickle.HIGHEST_PROTOCOL)"
   ]
  }
 ],
 "metadata": {
  "kernelspec": {
   "display_name": "Python 3.8.10 64-bit",
   "language": "python",
   "name": "python3"
  },
  "language_info": {
   "codemirror_mode": {
    "name": "ipython",
    "version": 3
   },
   "file_extension": ".py",
   "mimetype": "text/x-python",
   "name": "python",
   "nbconvert_exporter": "python",
   "pygments_lexer": "ipython3",
   "version": "3.8.10"
  },
  "orig_nbformat": 4,
  "vscode": {
   "interpreter": {
    "hash": "3d254f2afea9c9e75c1ef291adba6ecf1164cddb1c67abfc00070aa70dea71a0"
   }
  }
 },
 "nbformat": 4,
 "nbformat_minor": 2
}
